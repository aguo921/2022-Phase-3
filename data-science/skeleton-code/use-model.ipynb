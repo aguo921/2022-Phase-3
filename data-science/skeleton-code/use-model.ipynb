{
 "cells": [
  {
   "cell_type": "code",
   "execution_count": 1,
   "metadata": {},
   "outputs": [],
   "source": [
    "from tensorflow.keras.models import load_model\n",
    "import numpy as np\n",
    "import tensorflow as tf\n",
    "\n",
    "import matplotlib.pyplot as plt"
   ]
  },
  {
   "cell_type": "code",
   "execution_count": 2,
   "metadata": {},
   "outputs": [
    {
     "name": "stdout",
     "output_type": "stream",
     "text": [
      "Model: \"Image_Recognition_Model\"\n",
      "_________________________________________________________________\n",
      " Layer (type)                Output Shape              Param #   \n",
      "=================================================================\n",
      " sequential_4 (Sequential)   (None, 32, 32, 3)         0         \n",
      "                                                                 \n",
      " Normaliser (Rescaling)      (None, 32, 32, 3)         0         \n",
      "                                                                 \n",
      " conv2d_50 (Conv2D)          (None, 32, 32, 16)        448       \n",
      "                                                                 \n",
      " max_pooling2d_45 (MaxPoolin  (None, 16, 16, 16)       0         \n",
      " g2D)                                                            \n",
      "                                                                 \n",
      " conv2d_51 (Conv2D)          (None, 16, 16, 32)        4640      \n",
      "                                                                 \n",
      " max_pooling2d_46 (MaxPoolin  (None, 8, 8, 32)         0         \n",
      " g2D)                                                            \n",
      "                                                                 \n",
      " conv2d_52 (Conv2D)          (None, 8, 8, 64)          18496     \n",
      "                                                                 \n",
      " max_pooling2d_47 (MaxPoolin  (None, 4, 4, 64)         0         \n",
      " g2D)                                                            \n",
      "                                                                 \n",
      " flatten_29 (Flatten)        (None, 1024)              0         \n",
      "                                                                 \n",
      " dense_102 (Dense)           (None, 128)               131200    \n",
      "                                                                 \n",
      " dense_103 (Dense)           (None, 2)                 258       \n",
      "                                                                 \n",
      "=================================================================\n",
      "Total params: 155,042\n",
      "Trainable params: 155,042\n",
      "Non-trainable params: 0\n",
      "_________________________________________________________________\n"
     ]
    }
   ],
   "source": [
    "model = load_model(\"output/my_model2\")\n",
    "\n",
    "model.summary()"
   ]
  },
  {
   "cell_type": "code",
   "execution_count": 3,
   "metadata": {},
   "outputs": [],
   "source": [
    "def unpickle(file):\n",
    "    import pickle\n",
    "    with open(file, 'rb') as fo:\n",
    "        dict = pickle.load(fo, encoding='bytes')\n",
    "    return dict"
   ]
  },
  {
   "cell_type": "code",
   "execution_count": 4,
   "metadata": {},
   "outputs": [],
   "source": [
    "def reshape_image(data):\n",
    "    data = np.reshape(data, (3,32,32))\n",
    "    data = np.moveaxis(data, 0, -1)\n",
    "\n",
    "    return data"
   ]
  },
  {
   "cell_type": "code",
   "execution_count": 5,
   "metadata": {},
   "outputs": [],
   "source": [
    "def filter_classes(batch, label):\n",
    "    x = []\n",
    "    y = []\n",
    "\n",
    "    true_count = 0\n",
    "    false_count = 0\n",
    "\n",
    "    labels = np.array([int(i == label) for i in batch[b'labels']])\n",
    "\n",
    "    _, counts = np.unique(labels, return_counts=True)\n",
    "    n = min(counts)\n",
    "\n",
    "    for i in range(len(batch[b'data'])):\n",
    "        if batch[b'labels'][i] == label:\n",
    "            if true_count < n:\n",
    "                x.append(reshape_image(batch[b'data'][i]))\n",
    "                y.append(1)\n",
    "                true_count += 1\n",
    "        else:\n",
    "            if false_count < n:\n",
    "                x.append(reshape_image(batch[b'data'][i]))\n",
    "                y.append(0)\n",
    "                false_count += 1\n",
    "\n",
    "    return np.array(x), np.array(y)"
   ]
  },
  {
   "cell_type": "code",
   "execution_count": 6,
   "metadata": {},
   "outputs": [],
   "source": [
    "test_batch = unpickle('cifar-10-batches-py/test_batch')"
   ]
  },
  {
   "cell_type": "code",
   "execution_count": 7,
   "metadata": {},
   "outputs": [],
   "source": [
    "test_x, test_y = filter_classes(test_batch, 0)"
   ]
  },
  {
   "cell_type": "code",
   "execution_count": 8,
   "metadata": {},
   "outputs": [
    {
     "name": "stdout",
     "output_type": "stream",
     "text": [
      "63/63 [==============================] - 1s 7ms/step - loss: 0.2661 - accuracy: 0.8940\n"
     ]
    },
    {
     "data": {
      "text/plain": [
       "[0.2661473751068115, 0.8939999938011169]"
      ]
     },
     "execution_count": 8,
     "metadata": {},
     "output_type": "execute_result"
    }
   ],
   "source": [
    "model.evaluate(test_x, test_y)"
   ]
  },
  {
   "cell_type": "code",
   "execution_count": 42,
   "metadata": {},
   "outputs": [],
   "source": [
    "def probability(model, data):\n",
    "    return np.array(tf.nn.softmax(model.predict(data.reshape(1,32,32,3))))"
   ]
  },
  {
   "cell_type": "code",
   "execution_count": 10,
   "metadata": {},
   "outputs": [
    {
     "name": "stdout",
     "output_type": "stream",
     "text": [
      "1/1 [==============================] - 0s 124ms/step\n"
     ]
    },
    {
     "data": {
      "text/plain": [
       "<tf.Tensor: shape=(1, 2), dtype=float32, numpy=array([[9.9982458e-01, 1.7539602e-04]], dtype=float32)>"
      ]
     },
     "execution_count": 10,
     "metadata": {},
     "output_type": "execute_result"
    }
   ],
   "source": [
    "chosen_index = 12\n",
    "prob = probability(model, test_x[chosen_index])\n",
    "prob"
   ]
  },
  {
   "cell_type": "code",
   "execution_count": 11,
   "metadata": {},
   "outputs": [
    {
     "data": {
      "text/plain": [
       "0"
      ]
     },
     "execution_count": 11,
     "metadata": {},
     "output_type": "execute_result"
    }
   ],
   "source": [
    "test_y[chosen_index]"
   ]
  },
  {
   "cell_type": "code",
   "execution_count": 12,
   "metadata": {},
   "outputs": [],
   "source": [
    "def show_image(axs, data):\n",
    "    axs.imshow(data)\n",
    "    axs.axis('off')"
   ]
  },
  {
   "cell_type": "code",
   "execution_count": 13,
   "metadata": {},
   "outputs": [
    {
     "data": {
      "image/png": "[encoded data removed]",
      "text/plain": [
       "<Figure size 640x480 with 1 Axes>"
      ]
     },
     "metadata": {},
     "output_type": "display_data"
    }
   ],
   "source": [
    "show_image(plt, test_x[chosen_index])"
   ]
  },
  {
   "cell_type": "code",
   "execution_count": 14,
   "metadata": {},
   "outputs": [
    {
     "name": "stdout",
     "output_type": "stream",
     "text": [
      "1/1 [==============================] - 0s 21ms/step\n"
     ]
    },
    {
     "data": {
      "text/plain": [
       "<tf.Tensor: shape=(1, 2), dtype=float32, numpy=array([[0.3528896 , 0.64711034]], dtype=float32)>"
      ]
     },
     "execution_count": 14,
     "metadata": {},
     "output_type": "execute_result"
    }
   ],
   "source": [
    "i = 0\n",
    "count = 0\n",
    "while not test_y[i]:\n",
    "    i += 1\n",
    "prob = probability(model, test_x[i])\n",
    "prob"
   ]
  },
  {
   "cell_type": "code",
   "execution_count": 15,
   "metadata": {},
   "outputs": [
    {
     "data": {
      "text/plain": [
       "1"
      ]
     },
     "execution_count": 15,
     "metadata": {},
     "output_type": "execute_result"
    }
   ],
   "source": [
    "test_y[i]"
   ]
  },
  {
   "cell_type": "code",
   "execution_count": 16,
   "metadata": {},
   "outputs": [
    {
     "data": {
      "image/png": "[encoded data removed]",
      "text/plain": [
       "<Figure size 640x480 with 1 Axes>"
      ]
     },
     "metadata": {},
     "output_type": "display_data"
    }
   ],
   "source": [
    "show_image(plt, test_x[i])"
   ]
  },
  {
   "cell_type": "code",
   "execution_count": 65,
   "metadata": {},
   "outputs": [],
   "source": [
    "from PIL import Image\n",
    "from urllib.request import urlopen\n",
    "\n",
    "def evaluate_image(model, url):\n",
    "    img = Image.open(urlopen(url))\n",
    "    img_resized = np.asarray(img.resize((32, 32)))\n",
    "    \n",
    "    prob = np.array(probability(model, img_resized)).reshape(2,)\n",
    "\n",
    "    show_image(plt, img_resized)\n",
    "\n",
    "    if prob[0] > 0.5:\n",
    "        print(\"This image is most likely not a plane with {:.2f} percent confidence.\".format(prob[0]*100))\n",
    "    else:\n",
    "        print(\"This image is most likely a plane with {:.2f} percent confidence.\".format(prob[1]*100))\n",
    "    "
   ]
  },
  {
   "cell_type": "code",
   "execution_count": 66,
   "metadata": {},
   "outputs": [
    {
     "name": "stdout",
     "output_type": "stream",
     "text": [
      "1/1 [==============================] - 0s 20ms/step\n",
      "This image is most likely a plane with 99.79 percent confidence.\n"
     ]
    },
    {
     "data": {
      "image/png": "[encoded data removed]",
      "text/plain": [
       "<Figure size 640x480 with 1 Axes>"
      ]
     },
     "metadata": {},
     "output_type": "display_data"
    }
   ],
   "source": [
    "evaluate_image(model, \"https://media.istockphoto.com/id/501147980/es/foto/qantas-airways-airbus-a380-vh-oqf-despegar.webp?s=612x612&w=is&k=20&c=G0_4dlCUzEatl6ytQ7yOjzU2zn0HL6_XQ3_WaF2Jmzk=\")"
   ]
  }
 ],
 "metadata": {
  "kernelspec": {
   "display_name": "Python 3.10.5 ('.env': venv)",
   "language": "python",
   "name": "python3"
  },
  "language_info": {
   "codemirror_mode": {
    "name": "ipython",
    "version": 3
   },
   "file_extension": ".py",
   "mimetype": "text/x-python",
   "name": "python",
   "nbconvert_exporter": "python",
   "pygments_lexer": "ipython3",
   "version": "3.10.5"
  },
  "orig_nbformat": 4,
  "vscode": {
   "interpreter": {
    "hash": "adffc049c0057b7f9c7b7f1d164dfcad4547c7e894a42e2b6795b142f0f78ed4"
   }
  }
 },
 "nbformat": 4,
 "nbformat_minor": 2
}
